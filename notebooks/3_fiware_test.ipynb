{
 "cells": [
  {
   "cell_type": "code",
   "execution_count": null,
   "metadata": {},
   "outputs": [],
   "source": [
    "\"\"\"Bones nois,\n",
    "\n",
    "Us adjunto alguns scripts peraquè agafeu dades de la plataforma,\n",
    "\n",
    "get-data-orion-v2.py -> Agafa les últimes dades de l’Orion\n",
    "get-entities-quantum.py ->Recupera dades de la base de dades, aquí esta tot l’historic, podeu fer servir els diferents paràmetres per a fer filtratge.\n",
    "get-entity-types-quantum.py -> Recupera les diferents entitats, ara poder no, però en un futur poder és útil.\n",
    "\n",
    "Ara mateix heu de fer servir sempre el header “Fiware-Service”: “testing” com als exemples.\n",
    "Només hi ha un tipus d’entitat que és MeasureStation\n",
    "Només hi ha dos ids diferents per aquestes entitats: urn:ngsi-ld:Impetus:measurementStation:A, urn:ngsi-ld:Impetus:measurementStation:B\n",
    "\n",
    "Si voleu podem fer una trucada per a comentar com fer implementacions per un futur o resoldre qualsevol dubte, encara estic descobrint com funcionen algunes funcionalitats de la puta merda aquesta del Fiware dels collons, si algo ja us faré un update.\n",
    "\"\"\""
   ]
  },
  {
   "cell_type": "code",
   "execution_count": 1,
   "metadata": {},
   "outputs": [],
   "source": [
    "import requests\n",
    "import pandas as pd\n",
    "import json"
   ]
  },
  {
   "cell_type": "markdown",
   "metadata": {},
   "source": [
    "# Exemple 1"
   ]
  },
  {
   "cell_type": "code",
   "execution_count": 11,
   "metadata": {},
   "outputs": [],
   "source": [
    "url = \"https://data-manager.climate-impetus.eu/historical/v2/entities/urn:ngsi-ld:Impetus:measurementStation:A?fromDate=2023-06-01T09:30:00&toDate=2023-06-30T10:30:00&limit=5&offset=5\"\n",
    "headers = {\"Fiware-Service\": \"Testing\"}\n",
    "response = requests.get(url=url, headers=headers)"
   ]
  },
  {
   "cell_type": "code",
   "execution_count": 12,
   "metadata": {},
   "outputs": [
    {
     "data": {
      "text/plain": [
       "<Response [200]>"
      ]
     },
     "execution_count": 12,
     "metadata": {},
     "output_type": "execute_result"
    }
   ],
   "source": [
    "response"
   ]
  },
  {
   "cell_type": "code",
   "execution_count": 8,
   "metadata": {},
   "outputs": [
    {
     "name": "stdout",
     "output_type": "stream",
     "text": [
      "[5.05, 12.66, 11.33, 8.31, 23.06]\n"
     ]
    },
    {
     "data": {
      "text/html": [
       "<div>\n",
       "<style scoped>\n",
       "    .dataframe tbody tr th:only-of-type {\n",
       "        vertical-align: middle;\n",
       "    }\n",
       "\n",
       "    .dataframe tbody tr th {\n",
       "        vertical-align: top;\n",
       "    }\n",
       "\n",
       "    .dataframe thead th {\n",
       "        text-align: right;\n",
       "    }\n",
       "</style>\n",
       "<table border=\"1\" class=\"dataframe\">\n",
       "  <thead>\n",
       "    <tr style=\"text-align: right;\">\n",
       "      <th></th>\n",
       "      <th>Temperature</th>\n",
       "    </tr>\n",
       "  </thead>\n",
       "  <tbody>\n",
       "    <tr>\n",
       "      <th>2023-06-21T09:24:56.000+00:00</th>\n",
       "      <td>5.05</td>\n",
       "    </tr>\n",
       "    <tr>\n",
       "      <th>2023-06-21T09:25:01.000+00:00</th>\n",
       "      <td>12.66</td>\n",
       "    </tr>\n",
       "    <tr>\n",
       "      <th>2023-06-21T09:25:06.000+00:00</th>\n",
       "      <td>11.33</td>\n",
       "    </tr>\n",
       "    <tr>\n",
       "      <th>2023-06-21T09:25:11.000+00:00</th>\n",
       "      <td>8.31</td>\n",
       "    </tr>\n",
       "    <tr>\n",
       "      <th>2023-06-21T09:25:16.000+00:00</th>\n",
       "      <td>23.06</td>\n",
       "    </tr>\n",
       "  </tbody>\n",
       "</table>\n",
       "</div>"
      ],
      "text/plain": [
       "                               Temperature\n",
       "2023-06-21T09:24:56.000+00:00         5.05\n",
       "2023-06-21T09:25:01.000+00:00        12.66\n",
       "2023-06-21T09:25:06.000+00:00        11.33\n",
       "2023-06-21T09:25:11.000+00:00         8.31\n",
       "2023-06-21T09:25:16.000+00:00        23.06"
      ]
     },
     "execution_count": 8,
     "metadata": {},
     "output_type": "execute_result"
    }
   ],
   "source": [
    "# print(response.json())\n",
    "index = dict(response.json())['index']\n",
    "temperature = dict(response.json())['attributes'][4]['values']\n",
    "print(temperature)\n",
    "\n",
    "tt = pd.DataFrame( index = index)\n",
    "tt['Temperature'] = temperature\n",
    "tt"
   ]
  },
  {
   "cell_type": "code",
   "execution_count": 9,
   "metadata": {},
   "outputs": [
    {
     "data": {
      "text/html": [
       "<div>\n",
       "<style scoped>\n",
       "    .dataframe tbody tr th:only-of-type {\n",
       "        vertical-align: middle;\n",
       "    }\n",
       "\n",
       "    .dataframe tbody tr th {\n",
       "        vertical-align: top;\n",
       "    }\n",
       "\n",
       "    .dataframe thead th {\n",
       "        text-align: right;\n",
       "    }\n",
       "</style>\n",
       "<table border=\"1\" class=\"dataframe\">\n",
       "  <thead>\n",
       "    <tr style=\"text-align: right;\">\n",
       "      <th></th>\n",
       "      <th>conductivity</th>\n",
       "      <th>depth</th>\n",
       "      <th>location</th>\n",
       "      <th>location_centroid</th>\n",
       "      <th>temperature</th>\n",
       "    </tr>\n",
       "  </thead>\n",
       "  <tbody>\n",
       "    <tr>\n",
       "      <th>2023-06-21T09:24:56.000+00:00</th>\n",
       "      <td>17.00</td>\n",
       "      <td>13.45</td>\n",
       "      <td>{'coordinates': [37.337938, -5.995447], 'type'...</td>\n",
       "      <td>-5.995447, 37.337938</td>\n",
       "      <td>5.05</td>\n",
       "    </tr>\n",
       "    <tr>\n",
       "      <th>2023-06-21T09:25:01.000+00:00</th>\n",
       "      <td>20.28</td>\n",
       "      <td>25.11</td>\n",
       "      <td>{'coordinates': [37.337938, -5.995447], 'type'...</td>\n",
       "      <td>-5.995447, 37.337938</td>\n",
       "      <td>12.66</td>\n",
       "    </tr>\n",
       "    <tr>\n",
       "      <th>2023-06-21T09:25:06.000+00:00</th>\n",
       "      <td>11.51</td>\n",
       "      <td>17.12</td>\n",
       "      <td>{'coordinates': [37.337938, -5.995447], 'type'...</td>\n",
       "      <td>-5.995447, 37.337938</td>\n",
       "      <td>11.33</td>\n",
       "    </tr>\n",
       "    <tr>\n",
       "      <th>2023-06-21T09:25:11.000+00:00</th>\n",
       "      <td>0.37</td>\n",
       "      <td>22.43</td>\n",
       "      <td>{'coordinates': [37.337938, -5.995447], 'type'...</td>\n",
       "      <td>-5.995447, 37.337938</td>\n",
       "      <td>8.31</td>\n",
       "    </tr>\n",
       "    <tr>\n",
       "      <th>2023-06-21T09:25:16.000+00:00</th>\n",
       "      <td>17.16</td>\n",
       "      <td>16.89</td>\n",
       "      <td>{'coordinates': [37.337938, -5.995447], 'type'...</td>\n",
       "      <td>-5.995447, 37.337938</td>\n",
       "      <td>23.06</td>\n",
       "    </tr>\n",
       "  </tbody>\n",
       "</table>\n",
       "</div>"
      ],
      "text/plain": [
       "                               conductivity  depth  \\\n",
       "2023-06-21T09:24:56.000+00:00         17.00  13.45   \n",
       "2023-06-21T09:25:01.000+00:00         20.28  25.11   \n",
       "2023-06-21T09:25:06.000+00:00         11.51  17.12   \n",
       "2023-06-21T09:25:11.000+00:00          0.37  22.43   \n",
       "2023-06-21T09:25:16.000+00:00         17.16  16.89   \n",
       "\n",
       "                                                                        location  \\\n",
       "2023-06-21T09:24:56.000+00:00  {'coordinates': [37.337938, -5.995447], 'type'...   \n",
       "2023-06-21T09:25:01.000+00:00  {'coordinates': [37.337938, -5.995447], 'type'...   \n",
       "2023-06-21T09:25:06.000+00:00  {'coordinates': [37.337938, -5.995447], 'type'...   \n",
       "2023-06-21T09:25:11.000+00:00  {'coordinates': [37.337938, -5.995447], 'type'...   \n",
       "2023-06-21T09:25:16.000+00:00  {'coordinates': [37.337938, -5.995447], 'type'...   \n",
       "\n",
       "                                  location_centroid  temperature  \n",
       "2023-06-21T09:24:56.000+00:00  -5.995447, 37.337938         5.05  \n",
       "2023-06-21T09:25:01.000+00:00  -5.995447, 37.337938        12.66  \n",
       "2023-06-21T09:25:06.000+00:00  -5.995447, 37.337938        11.33  \n",
       "2023-06-21T09:25:11.000+00:00  -5.995447, 37.337938         8.31  \n",
       "2023-06-21T09:25:16.000+00:00  -5.995447, 37.337938        23.06  "
      ]
     },
     "execution_count": 9,
     "metadata": {},
     "output_type": "execute_result"
    }
   ],
   "source": [
    "df_data = {}\n",
    "data = response.json()\n",
    "for attr in data[\"attributes\"]:\n",
    "    df_data[attr[\"attrName\"]] = attr[\"values\"]\n",
    "\n",
    "# Crear un DataFrame con el diccionario\n",
    "df = pd.DataFrame(df_data, index=data[\"index\"])\n",
    "df"
   ]
  },
  {
   "cell_type": "code",
   "execution_count": 62,
   "metadata": {},
   "outputs": [
    {
     "data": {
      "text/html": [
       "<div>\n",
       "<style scoped>\n",
       "    .dataframe tbody tr th:only-of-type {\n",
       "        vertical-align: middle;\n",
       "    }\n",
       "\n",
       "    .dataframe tbody tr th {\n",
       "        vertical-align: top;\n",
       "    }\n",
       "\n",
       "    .dataframe thead th {\n",
       "        text-align: right;\n",
       "    }\n",
       "</style>\n",
       "<table border=\"1\" class=\"dataframe\">\n",
       "  <thead>\n",
       "    <tr style=\"text-align: right;\">\n",
       "      <th></th>\n",
       "      <th>conductivity</th>\n",
       "      <th>depth</th>\n",
       "      <th>location</th>\n",
       "      <th>location_centroid</th>\n",
       "      <th>temperature</th>\n",
       "    </tr>\n",
       "  </thead>\n",
       "  <tbody>\n",
       "    <tr>\n",
       "      <th>2023-06-21T09:24:56.000+00:00</th>\n",
       "      <td>17.00</td>\n",
       "      <td>13.45</td>\n",
       "      <td>{'coordinates': [37.337938, -5.995447], 'type'...</td>\n",
       "      <td>-5.995447, 37.337938</td>\n",
       "      <td>5.05</td>\n",
       "    </tr>\n",
       "    <tr>\n",
       "      <th>2023-06-21T09:25:01.000+00:00</th>\n",
       "      <td>20.28</td>\n",
       "      <td>25.11</td>\n",
       "      <td>{'coordinates': [37.337938, -5.995447], 'type'...</td>\n",
       "      <td>-5.995447, 37.337938</td>\n",
       "      <td>12.66</td>\n",
       "    </tr>\n",
       "    <tr>\n",
       "      <th>2023-06-21T09:25:06.000+00:00</th>\n",
       "      <td>11.51</td>\n",
       "      <td>17.12</td>\n",
       "      <td>{'coordinates': [37.337938, -5.995447], 'type'...</td>\n",
       "      <td>-5.995447, 37.337938</td>\n",
       "      <td>11.33</td>\n",
       "    </tr>\n",
       "    <tr>\n",
       "      <th>2023-06-21T09:25:11.000+00:00</th>\n",
       "      <td>0.37</td>\n",
       "      <td>22.43</td>\n",
       "      <td>{'coordinates': [37.337938, -5.995447], 'type'...</td>\n",
       "      <td>-5.995447, 37.337938</td>\n",
       "      <td>8.31</td>\n",
       "    </tr>\n",
       "    <tr>\n",
       "      <th>2023-06-21T09:25:16.000+00:00</th>\n",
       "      <td>17.16</td>\n",
       "      <td>16.89</td>\n",
       "      <td>{'coordinates': [37.337938, -5.995447], 'type'...</td>\n",
       "      <td>-5.995447, 37.337938</td>\n",
       "      <td>23.06</td>\n",
       "    </tr>\n",
       "  </tbody>\n",
       "</table>\n",
       "</div>"
      ],
      "text/plain": [
       "                               conductivity  depth  \\\n",
       "2023-06-21T09:24:56.000+00:00         17.00  13.45   \n",
       "2023-06-21T09:25:01.000+00:00         20.28  25.11   \n",
       "2023-06-21T09:25:06.000+00:00         11.51  17.12   \n",
       "2023-06-21T09:25:11.000+00:00          0.37  22.43   \n",
       "2023-06-21T09:25:16.000+00:00         17.16  16.89   \n",
       "\n",
       "                                                                        location  \\\n",
       "2023-06-21T09:24:56.000+00:00  {'coordinates': [37.337938, -5.995447], 'type'...   \n",
       "2023-06-21T09:25:01.000+00:00  {'coordinates': [37.337938, -5.995447], 'type'...   \n",
       "2023-06-21T09:25:06.000+00:00  {'coordinates': [37.337938, -5.995447], 'type'...   \n",
       "2023-06-21T09:25:11.000+00:00  {'coordinates': [37.337938, -5.995447], 'type'...   \n",
       "2023-06-21T09:25:16.000+00:00  {'coordinates': [37.337938, -5.995447], 'type'...   \n",
       "\n",
       "                                  location_centroid  temperature  \n",
       "2023-06-21T09:24:56.000+00:00  -5.995447, 37.337938         5.05  \n",
       "2023-06-21T09:25:01.000+00:00  -5.995447, 37.337938        12.66  \n",
       "2023-06-21T09:25:06.000+00:00  -5.995447, 37.337938        11.33  \n",
       "2023-06-21T09:25:11.000+00:00  -5.995447, 37.337938         8.31  \n",
       "2023-06-21T09:25:16.000+00:00  -5.995447, 37.337938        23.06  "
      ]
     },
     "execution_count": 62,
     "metadata": {},
     "output_type": "execute_result"
    }
   ],
   "source": [
    "df_data = {attr[\"attrName\"]: attr[\"values\"] for attr in data[\"attributes\"]}\n",
    "df = pd.DataFrame(df_data, index=data[\"index\"])\n",
    "df"
   ]
  },
  {
   "cell_type": "code",
   "execution_count": 20,
   "metadata": {},
   "outputs": [
    {
     "name": "stdout",
     "output_type": "stream",
     "text": [
      "{'attributes': [{'attrName': 'conductivity', 'values': [17.0, 20.28, 11.51, 0.37, 17.16]}, {'attrName': 'depth', 'values': [13.45, 25.11, 17.12, 22.43, 16.89]}, {'attrName': 'location', 'values': [{'coordinates': [37.337938, -5.995447], 'type': 'Point'}, {'coordinates': [37.337938, -5.995447], 'type': 'Point'}, {'coordinates': [37.337938, -5.995447], 'type': 'Point'}, {'coordinates': [37.337938, -5.995447], 'type': 'Point'}, {'coordinates': [37.337938, -5.995447], 'type': 'Point'}]}, {'attrName': 'location_centroid', 'values': ['-5.995447, 37.337938', '-5.995447, 37.337938', '-5.995447, 37.337938', '-5.995447, 37.337938', '-5.995447, 37.337938']}, {'attrName': 'temperature', 'values': [5.05, 12.66, 11.33, 8.31, 23.06]}], 'entityId': 'urn:ngsi-ld:Impetus:measurementStation:A', 'entityType': 'MeasurementStation', 'index': ['2023-06-21T09:24:56.000+00:00', '2023-06-21T09:25:01.000+00:00', '2023-06-21T09:25:06.000+00:00', '2023-06-21T09:25:11.000+00:00', '2023-06-21T09:25:16.000+00:00']}\n"
     ]
    }
   ],
   "source": [
    "print(dict(response.json()))"
   ]
  },
  {
   "cell_type": "code",
   "execution_count": 56,
   "metadata": {},
   "outputs": [
    {
     "name": "stdout",
     "output_type": "stream",
     "text": [
      "{\n",
      "    \"attributes\": [\n",
      "        {\n",
      "            \"attrName\": \"conductivity\",\n",
      "            \"values\": [\n",
      "                17.0,\n",
      "                20.28,\n",
      "                11.51,\n",
      "                0.37,\n",
      "                17.16\n",
      "            ]\n",
      "        },\n",
      "        {\n",
      "            \"attrName\": \"depth\",\n",
      "            \"values\": [\n",
      "                13.45,\n",
      "                25.11,\n",
      "                17.12,\n",
      "                22.43,\n",
      "                16.89\n",
      "            ]\n",
      "        },\n",
      "        {\n",
      "            \"attrName\": \"location\",\n",
      "            \"values\": [\n",
      "                {\n",
      "                    \"coordinates\": [\n",
      "                        37.337938,\n",
      "                        -5.995447\n",
      "                    ],\n",
      "                    \"type\": \"Point\"\n",
      "                },\n",
      "                {\n",
      "                    \"coordinates\": [\n",
      "                        37.337938,\n",
      "                        -5.995447\n",
      "                    ],\n",
      "                    \"type\": \"Point\"\n",
      "                },\n",
      "                {\n",
      "                    \"coordinates\": [\n",
      "                        37.337938,\n",
      "                        -5.995447\n",
      "                    ],\n",
      "                    \"type\": \"Point\"\n",
      "                },\n",
      "                {\n",
      "                    \"coordinates\": [\n",
      "                        37.337938,\n",
      "                        -5.995447\n",
      "                    ],\n",
      "                    \"type\": \"Point\"\n",
      "                },\n",
      "                {\n",
      "                    \"coordinates\": [\n",
      "                        37.337938,\n",
      "                        -5.995447\n",
      "                    ],\n",
      "                    \"type\": \"Point\"\n",
      "                }\n",
      "            ]\n",
      "        },\n",
      "        {\n",
      "            \"attrName\": \"location_centroid\",\n",
      "            \"values\": [\n",
      "                \"-5.995447, 37.337938\",\n",
      "                \"-5.995447, 37.337938\",\n",
      "                \"-5.995447, 37.337938\",\n",
      "                \"-5.995447, 37.337938\",\n",
      "                \"-5.995447, 37.337938\"\n",
      "            ]\n",
      "        },\n",
      "        {\n",
      "            \"attrName\": \"temperature\",\n",
      "            \"values\": [\n",
      "                5.05,\n",
      "                12.66,\n",
      "                11.33,\n",
      "                8.31,\n",
      "                23.06\n",
      "            ]\n",
      "        }\n",
      "    ],\n",
      "    \"entityId\": \"urn:ngsi-ld:Impetus:measurementStation:A\",\n",
      "    \"entityType\": \"MeasurementStation\",\n",
      "    \"index\": [\n",
      "        \"2023-06-21T09:24:56.000+00:00\",\n",
      "        \"2023-06-21T09:25:01.000+00:00\",\n",
      "        \"2023-06-21T09:25:06.000+00:00\",\n",
      "        \"2023-06-21T09:25:11.000+00:00\",\n",
      "        \"2023-06-21T09:25:16.000+00:00\"\n",
      "    ]\n",
      "}\n"
     ]
    }
   ],
   "source": [
    "print(json.dumps(response.json(), indent = 4))"
   ]
  },
  {
   "cell_type": "markdown",
   "metadata": {},
   "source": [
    "## Exemple Integració"
   ]
  },
  {
   "cell_type": "code",
   "execution_count": 30,
   "metadata": {},
   "outputs": [
    {
     "data": {
      "text/html": [
       "<div>\n",
       "<style scoped>\n",
       "    .dataframe tbody tr th:only-of-type {\n",
       "        vertical-align: middle;\n",
       "    }\n",
       "\n",
       "    .dataframe tbody tr th {\n",
       "        vertical-align: top;\n",
       "    }\n",
       "\n",
       "    .dataframe thead th {\n",
       "        text-align: right;\n",
       "    }\n",
       "</style>\n",
       "<table border=\"1\" class=\"dataframe\">\n",
       "  <thead>\n",
       "    <tr style=\"text-align: right;\">\n",
       "      <th></th>\n",
       "      <th>conductivity</th>\n",
       "      <th>depth</th>\n",
       "      <th>location_coordinates</th>\n",
       "      <th>location_type</th>\n",
       "      <th>location_centroid</th>\n",
       "      <th>temperature</th>\n",
       "    </tr>\n",
       "  </thead>\n",
       "  <tbody>\n",
       "    <tr>\n",
       "      <th>2023-06-21 09:24:56+00:00</th>\n",
       "      <td>17.00</td>\n",
       "      <td>13.45</td>\n",
       "      <td>[37.337938, -5.995447]</td>\n",
       "      <td>Point</td>\n",
       "      <td>-5.995447, 37.337938</td>\n",
       "      <td>5.05</td>\n",
       "    </tr>\n",
       "    <tr>\n",
       "      <th>2023-06-21 09:25:01+00:00</th>\n",
       "      <td>20.28</td>\n",
       "      <td>25.11</td>\n",
       "      <td>[37.337938, -5.995447]</td>\n",
       "      <td>Point</td>\n",
       "      <td>-5.995447, 37.337938</td>\n",
       "      <td>12.66</td>\n",
       "    </tr>\n",
       "    <tr>\n",
       "      <th>2023-06-21 09:25:06+00:00</th>\n",
       "      <td>11.51</td>\n",
       "      <td>17.12</td>\n",
       "      <td>[37.337938, -5.995447]</td>\n",
       "      <td>Point</td>\n",
       "      <td>-5.995447, 37.337938</td>\n",
       "      <td>11.33</td>\n",
       "    </tr>\n",
       "    <tr>\n",
       "      <th>2023-06-21 09:25:11+00:00</th>\n",
       "      <td>0.37</td>\n",
       "      <td>22.43</td>\n",
       "      <td>[37.337938, -5.995447]</td>\n",
       "      <td>Point</td>\n",
       "      <td>-5.995447, 37.337938</td>\n",
       "      <td>8.31</td>\n",
       "    </tr>\n",
       "    <tr>\n",
       "      <th>2023-06-21 09:25:16+00:00</th>\n",
       "      <td>17.16</td>\n",
       "      <td>16.89</td>\n",
       "      <td>[37.337938, -5.995447]</td>\n",
       "      <td>Point</td>\n",
       "      <td>-5.995447, 37.337938</td>\n",
       "      <td>23.06</td>\n",
       "    </tr>\n",
       "  </tbody>\n",
       "</table>\n",
       "</div>"
      ],
      "text/plain": [
       "                           conductivity  depth    location_coordinates  \\\n",
       "2023-06-21 09:24:56+00:00         17.00  13.45  [37.337938, -5.995447]   \n",
       "2023-06-21 09:25:01+00:00         20.28  25.11  [37.337938, -5.995447]   \n",
       "2023-06-21 09:25:06+00:00         11.51  17.12  [37.337938, -5.995447]   \n",
       "2023-06-21 09:25:11+00:00          0.37  22.43  [37.337938, -5.995447]   \n",
       "2023-06-21 09:25:16+00:00         17.16  16.89  [37.337938, -5.995447]   \n",
       "\n",
       "                          location_type     location_centroid  temperature  \n",
       "2023-06-21 09:24:56+00:00         Point  -5.995447, 37.337938         5.05  \n",
       "2023-06-21 09:25:01+00:00         Point  -5.995447, 37.337938        12.66  \n",
       "2023-06-21 09:25:06+00:00         Point  -5.995447, 37.337938        11.33  \n",
       "2023-06-21 09:25:11+00:00         Point  -5.995447, 37.337938         8.31  \n",
       "2023-06-21 09:25:16+00:00         Point  -5.995447, 37.337938        23.06  "
      ]
     },
     "execution_count": 30,
     "metadata": {},
     "output_type": "execute_result"
    }
   ],
   "source": [
    "def load_data_from_api(url):\n",
    "    \"\"\"Carga los datos desde una API\"\"\"\n",
    "    headers = {\"Fiware-Service\": \"Testing\"}\n",
    "    response = requests.get(url=url, headers=headers)\n",
    "    if response.status_code != 200:\n",
    "        print(f\"Error al obtener datos de la API: {response.status_code}\")\n",
    "        return None\n",
    "\n",
    "    df = pd.DataFrame(index=pd.to_datetime(data['index']))\n",
    "    for attr in data['attributes']:\n",
    "        if isinstance(attr['values'][0], dict):\n",
    "            for key in attr['values'][0].keys():\n",
    "                column_name = f\"{attr['attrName']}_{key}\"\n",
    "                df[column_name] = [val[key] for val in attr['values']]\n",
    "        else:\n",
    "            df[attr['attrName']] = attr['values']\n",
    "    return df\n",
    "    # return pd.DataFrame(response.json())\n",
    "url = \"https://data-manager.climate-impetus.eu/historical/v2/entities/urn:ngsi-ld:Impetus:measurementStation:A?fromDate=2023-06-01T09:30:00&toDate=2023-06-30T10:30:00&limit=5&offset=5\"\n",
    "load_data_from_api(url)"
   ]
  },
  {
   "cell_type": "code",
   "execution_count": null,
   "metadata": {},
   "outputs": [],
   "source": []
  },
  {
   "cell_type": "code",
   "execution_count": null,
   "metadata": {},
   "outputs": [],
   "source": []
  },
  {
   "cell_type": "code",
   "execution_count": null,
   "metadata": {},
   "outputs": [],
   "source": []
  },
  {
   "cell_type": "code",
   "execution_count": null,
   "metadata": {},
   "outputs": [],
   "source": []
  },
  {
   "cell_type": "markdown",
   "metadata": {},
   "source": [
    "# Exemple 2"
   ]
  },
  {
   "cell_type": "code",
   "execution_count": 7,
   "metadata": {},
   "outputs": [
    {
     "name": "stdout",
     "output_type": "stream",
     "text": [
      "[{'id': 'urn:ngsi-ld:Impetus:measurementStation:A', 'type': 'https://data-manager.climate-impetus.eu/schemas/MeasurementStation/measurement-station.yaml#/MeasurementStation', 'https://data-manager.climate-impetus.eu/schemas/MeasurementStation/measurement-station.yaml#/depth': {'type': 'Property', 'value': 0.91, 'metadata': {'observedAt': {'type': 'Number', 'value': 1687512609}}}, 'https://w3id.org/saref#conductivity': {'type': 'Property', 'value': 0.27, 'metadata': {'observedAt': {'type': 'Number', 'value': 1687512609}}}, 'https://w3id.org/saref#temperature': {'type': 'Property', 'value': 22.34, 'metadata': {'observedAt': {'type': 'Number', 'value': 1687512609}}}, 'location': {'type': 'GeoProperty', 'value': {'type': 'Point', 'coordinates': [37.337937901, -5.995446988]}, 'metadata': {}}}, {'id': 'urn:ngsi-ld:Impetus:measurementStation:B', 'type': 'https://data-manager.climate-impetus.eu/schemas/MeasurementStation/measurement-station.yaml#/MeasurementStation', 'https://data-manager.climate-impetus.eu/schemas/MeasurementStation/measurement-station.yaml#/depth': {'type': 'Property', 'value': 10.63, 'metadata': {'observedAt': {'type': 'Number', 'value': 1687512609}}}, 'https://w3id.org/saref#conductivity': {'type': 'Property', 'value': 10.55, 'metadata': {'observedAt': {'type': 'Number', 'value': 1687512609}}}, 'https://w3id.org/saref#temperature': {'type': 'Property', 'value': 23.41, 'metadata': {'observedAt': {'type': 'Number', 'value': 1687512609}}}, 'location': {'type': 'GeoProperty', 'value': {'type': 'Point', 'coordinates': [37.319196711, -5.992914302]}, 'metadata': {}}}]\n"
     ]
    }
   ],
   "source": [
    "url = \"https://data-manager.climate-impetus.eu/broker/v2/entities\"\n",
    "headers = {\"Fiware-Service\": \"Testing\"}\n",
    "response = requests.get(url=url, headers=headers)\n",
    "print(response.json())"
   ]
  }
 ],
 "metadata": {
  "kernelspec": {
   "display_name": "Python 3.6.10 ('base')",
   "language": "python",
   "name": "python3"
  },
  "language_info": {
   "codemirror_mode": {
    "name": "ipython",
    "version": 3
   },
   "file_extension": ".py",
   "mimetype": "text/x-python",
   "name": "python",
   "nbconvert_exporter": "python",
   "pygments_lexer": "ipython3",
   "version": "3.6.10"
  },
  "orig_nbformat": 4,
  "vscode": {
   "interpreter": {
    "hash": "c30b4cdb1d07b89ead0f7f786a62c1c7e45ccac6a3b7a2ff1b1099992ea7b224"
   }
  }
 },
 "nbformat": 4,
 "nbformat_minor": 2
}
