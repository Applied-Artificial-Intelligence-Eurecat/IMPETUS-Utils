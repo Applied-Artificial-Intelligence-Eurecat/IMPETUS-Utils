{
 "cells": [
  {
   "cell_type": "code",
   "execution_count": 2,
   "metadata": {},
   "outputs": [],
   "source": [
    "import requests\n",
    "import json\n",
    "import subprocess"
   ]
  },
  {
   "cell_type": "markdown",
   "metadata": {},
   "source": [
    "# Estructura component"
   ]
  },
  {
   "cell_type": "markdown",
   "metadata": {},
   "source": [
    "El component ha de poder executar un codi agnòstic. Es pot començar simplificant el problema fent que aquest codi agnòstic està dins d'un arxiu .py.  \n",
    "Aquest arxiu .py estarà dins d'un docker.  \n",
    "El docker estarà montat amb una base de fastapi.  \n",
    "La crida al component, hauria d'aixecar el docker, amb uns paràmetres d'entrada. El docker executaria el codi .py, i automàticament enviaria el resultat de l'execució de tornada mitjançant fastapi  "
   ]
  },
  {
   "cell_type": "markdown",
   "metadata": {},
   "source": [
    "Patrón de diseño Command Pattern"
   ]
  },
  {
   "cell_type": "markdown",
   "metadata": {},
   "source": [
    "# Component V1"
   ]
  },
  {
   "cell_type": "markdown",
   "metadata": {},
   "source": [
    "docker build -t componente-v1.0 -f Dockerfile .\n",
    "\n",
    "docker run -e SCRIPT_PATH=/path/to/script.py -e ARGS=\"arg1 arg2 arg3\" -e URL=http://api-access-manager.com/path componente-v1.0\n",
    "\n",
    "\n",
    "\n",
    "docker run -it --rm mi-imagen python /tests/componente_tests.py"
   ]
  },
  {
   "cell_type": "markdown",
   "metadata": {},
   "source": [
    "\"calculos.py\" debe enviar por stdout los resultados del cálculo en formato json (o str en su defecto).\n",
    "\n"
   ]
  },
  {
   "cell_type": "markdown",
   "metadata": {},
   "source": [
    "# Crides"
   ]
  },
  {
   "cell_type": "code",
   "execution_count": 8,
   "metadata": {},
   "outputs": [
    {
     "name": "stdout",
     "output_type": "stream",
     "text": [
      "<Response [200]>\n",
      "{\"status\":1000}\n"
     ]
    }
   ],
   "source": [
    "resultado = {\"data\": {\"a\" : 1}}\n",
    "url = \"http://localhost:8080/run\"\n",
    "headers = {\"Content-Type\": \"application/json\"}\n",
    "response = requests.post(url, headers=headers, data=json.dumps(resultado))\n",
    "print(response)\n",
    "print(response.text)"
   ]
  },
  {
   "cell_type": "code",
   "execution_count": 132,
   "metadata": {},
   "outputs": [
    {
     "data": {
      "text/plain": [
       "'{\"a\": 1}'"
      ]
     },
     "execution_count": 132,
     "metadata": {},
     "output_type": "execute_result"
    }
   ],
   "source": [
    "url = \"http://localhost:8080/results\"\n",
    "headers = {\"Content-Type\": \"application/json\"}\n",
    "resultado =  { \"a\" : 1 }\n",
    "response = requests.post(url, headers=headers, data=json.dumps(resultado))\n",
    "json.dumps(resultado)"
   ]
  },
  {
   "cell_type": "code",
   "execution_count": 118,
   "metadata": {},
   "outputs": [
    {
     "data": {
      "text/plain": [
       "CompletedProcess(args=['docker', 'run', '-e', 'SCRIPT_PATH=calculos.py', '-e', 'ARGS=\"arg1 arg2 arg3\"', '-e', 'URL=http://host.docker.internal:8080/results', 'componente-v1.0'], returncode=0)"
      ]
     },
     "execution_count": 118,
     "metadata": {},
     "output_type": "execute_result"
    }
   ],
   "source": [
    "docker_image_name = \"componente-v1.0\"\n",
    "script_path = \"calculos.py\"\n",
    "args = \"arg1 arg2 arg3\"\n",
    "url = \"http://host.docker.internal:8080/results\"\n",
    "docker_command = [\"docker\", \"run\", \"-e\", f\"SCRIPT_PATH={script_path}\", \"-e\", f'ARGS=\"{args}\"', \"-e\", f'URL={url}', docker_image_name]\n",
    "process = subprocess.run(docker_command)\n",
    "process"
   ]
  },
  {
   "cell_type": "code",
   "execution_count": 34,
   "metadata": {},
   "outputs": [
    {
     "data": {
      "text/plain": [
       "'{\"a\": 1}'"
      ]
     },
     "execution_count": 34,
     "metadata": {},
     "output_type": "execute_result"
    }
   ],
   "source": [
    "docker_image_name = \"componente-v1.0\"\n",
    "script_path = \"calculos.py\"\n",
    "args = \"arg1 arg2 arg3\"\n",
    "url = \"http://host.docker.internal:8080/results\"\n",
    "docker_command = f'docker run -e SCRIPT_PATH={script_path} -e ARGS=\"{args}\" -e URL={url} {docker_image_name}'\n",
    "process = subprocess.run(docker_command, shell=True, stdout=subprocess.PIPE, stderr=subprocess.PIPE,text=True)"
   ]
  },
  {
   "cell_type": "code",
   "execution_count": 46,
   "metadata": {},
   "outputs": [
    {
     "name": "stdout",
     "output_type": "stream",
     "text": [
      "El archivo calculos.py es accesible\n"
     ]
    }
   ],
   "source": [
    "script_path = \"..\\src\\componente_v1\\calculos.py\"\n",
    "try:\n",
    "    with open(script_path, 'r') as file:\n",
    "        print('El archivo calculos.py es accesible')\n",
    "except FileNotFoundError:\n",
    "    print('El archivo calculos.py no es accesible')"
   ]
  },
  {
   "cell_type": "markdown",
   "metadata": {},
   "source": [
    "# Howto"
   ]
  },
  {
   "cell_type": "markdown",
   "metadata": {},
   "source": [
    "\n",
    "* Construir imagen  \n",
    "docker build -t componente-v1.0 -f Dockerfile .\n",
    "\n",
    "* Para abrir el access manager   \n",
    "python access_manager_simulation.py\n",
    "\n",
    "\n",
    "\n",
    "\n",
    "* Para utilizar terminal dentro del contenedor (principalmente debugguear)  \n",
    "docker run -it componente-v1.0 bash\n"
   ]
  },
  {
   "cell_type": "code",
   "execution_count": 4,
   "metadata": {},
   "outputs": [
    {
     "name": "stdout",
     "output_type": "stream",
     "text": [
      "<Response [202]> {\"status\":\"started\",\"PID\":5560}\n"
     ]
    }
   ],
   "source": [
    "script_name = \"script_1_calculadora.py\"\n",
    "script_arguments = \"2 3\"\n",
    "\n",
    "data = {\"script_path\": script_name, \"arguments\": script_arguments}\n",
    "run_script_url = \"http://localhost:8080/run\"\n",
    "headers = {\"Content-Type\": \"application/json\"}\n",
    "response = requests.post(run_script_url, headers=headers, json=data)\n",
    "print(response, response.text)"
   ]
  },
  {
   "cell_type": "markdown",
   "metadata": {},
   "source": [
    "# Modificacions  \n",
    "\n",
    "* No s'executarà codi aliè.  \n",
    "* Dos approaches, T2.3 i T2.4\n",
    "* No s'executarà un docker per procés, els processos menys intensos seràn scripts a l'entorn\n",
    "  que s'executaràn. Els més intensos sí que es faràn en un contenidor apart.\n",
    "\n",
    "\n",
    "## Jofre: Preguntar cas d'us?  \n",
    "  * Qui és?\n",
    "  * Què ens ha proporcionat?\n",
    "  * Quin context necessito per formular una pregunta més coherent informativa que \"Com ho utilitzaries?\"\n",
    "## Diagrama de sqüència: Com faràn les dades? Per on passaràn?\n",
    "  * Com faràn les dades?\n",
    "  * Per on passaràn?\n",
    "  * Visio?\n"
   ]
  },
  {
   "cell_type": "markdown",
   "metadata": {},
   "source": [
    "# Component v2\n"
   ]
  },
  {
   "cell_type": "markdown",
   "metadata": {},
   "source": [
    "Para construir el contenedor:\n",
    "> docker build -t componente-v2 -f Dockerfile .  \n",
    "\n",
    "Para correr el contenedor:  \n",
    "> docker run -p 8000:8000 componente-v2  \n",
    " \n",
    "Si quiero tener la unidad montada en /datasets para ver el resultado  \n",
    "> docker run -p 8000:8000 -v C:\\Users\\ian.palacin\\Desktop\\projects\\IMPETUS\\src\\componente_v2\\datasets:/app/datasets componente-v2\n",
    "\n",
    "De esta forma se ejecuta el comando [\"uvicorn\", \"main:app\", \"--host\", \"0.0.0.0\", \"--port\", \"8000\"], que deja corriendo una api en el contenedor, esta será la responsable de recibir órdenes. La api está en main.py, desde allí se orquestará la:\n",
    "* Recepción de órdenes des del Acess Manager (de momento simulado)\n",
    "* Ejecución del proceso\n",
    "* Envío de la salida del proceso de vuelta al Access Manager\n"
   ]
  },
  {
   "cell_type": "markdown",
   "metadata": {},
   "source": [
    "### Development\n",
    "\n",
    "Component\n",
    "> uvicorn main:app --host 0.0.0.0 --port 8000 --reload  \n",
    "\n",
    "Clean procedure  \n",
    ">python procedures\\clean_procedure.py datasets\\racha_max_manresa.csv RachaMax"
   ]
  },
  {
   "cell_type": "markdown",
   "metadata": {},
   "source": [
    "# INTERFICIE"
   ]
  },
  {
   "cell_type": "code",
   "execution_count": 1,
   "metadata": {},
   "outputs": [],
   "source": [
    "import requests\n",
    "import json\n",
    "import pandas as pd\n",
    "import plotly.graph_objects as go"
   ]
  },
  {
   "cell_type": "code",
   "execution_count": 48,
   "metadata": {},
   "outputs": [
    {
     "name": "stdout",
     "output_type": "stream",
     "text": [
      "<Response [500]>\n",
      "Internal Server Error\n"
     ]
    }
   ],
   "source": [
    "# Vull processar les meves dades amb el procés de data cleaning\n",
    "payload = {\"data\": {\"a\" : 1}}\n",
    "url = \"http://127.0.0.1:8080/run\"\n",
    "headers = {\"Content-Type\": \"application/json\"}\n",
    "payload = { \n",
    "    \"script_name\": \"clean_procedure.py\",\n",
    "    \"args\": [\"datasets/racha_max_manresa.csv\", \"RachaMax\"]\n",
    "    \n",
    "}\n",
    "response = requests.post(url, headers=headers, data=json.dumps(payload))\n",
    "print(response)\n",
    "print(response.text)"
   ]
  },
  {
   "cell_type": "code",
   "execution_count": 8,
   "metadata": {},
   "outputs": [],
   "source": [
    "df_racha_raw = pd.read_csv( \"..\\src\\componente_v2\\datasets\\\\racha_max_manresa.csv\")\n",
    "df_racha_raw = df_racha_raw[['RachaMax']]\n",
    "# df_racha_processed = pd.read_csv( \"..\\src\\componente_v2\\datasets\\\\racha_max_manresa_20230809_110038.csv\")\n",
    "df_racha_processed = pd.read_csv( \"..\\src\\componente_v2\\datasets\\\\racha_max_manresa_20230809_110038.csv\")"
   ]
  },
  {
   "cell_type": "code",
   "execution_count": null,
   "metadata": {},
   "outputs": [],
   "source": [
    "trace_raw = go.Scatter(x=df_racha_raw.index, y=df_racha_raw['RachaMax'], mode='lines', name='Raw')\n",
    "trace_processed = go.Scatter(x=df_racha_processed.index, y=df_racha_processed['RachaMax'], mode='lines', name='Processed')\n",
    "fig = go.Figure(data=[trace_raw, trace_processed])\n",
    "fig.show()"
   ]
  },
  {
   "cell_type": "markdown",
   "metadata": {},
   "source": [
    "# Lab"
   ]
  },
  {
   "cell_type": "code",
   "execution_count": 39,
   "metadata": {},
   "outputs": [],
   "source": [
    "import pandas as pd\n",
    "df = pd.read_excel( r\"..\\src\\componente_v2\\datasets\\viento_manresa.xlsx\" )\n",
    "df = df[['FECHA', 'Racha Max (Km/h)']]\n",
    "df.to_csv(r\"..\\src\\componente_v2\\datasets\\racha_max_manresa.csv\")\n",
    "\n"
   ]
  }
 ],
 "metadata": {
  "kernelspec": {
   "display_name": "Python 3.8.17 ('impetus_env')",
   "language": "python",
   "name": "python3"
  },
  "language_info": {
   "codemirror_mode": {
    "name": "ipython",
    "version": 3
   },
   "file_extension": ".py",
   "mimetype": "text/x-python",
   "name": "python",
   "nbconvert_exporter": "python",
   "pygments_lexer": "ipython3",
   "version": "3.8.17"
  },
  "orig_nbformat": 4,
  "vscode": {
   "interpreter": {
    "hash": "3b53d8ac69ab7c4c5a0f955895f394121c023c004a5d5351af54986cd618c129"
   }
  }
 },
 "nbformat": 4,
 "nbformat_minor": 2
}
