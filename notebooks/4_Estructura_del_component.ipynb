{
 "cells": [
  {
   "cell_type": "code",
   "execution_count": 136,
   "metadata": {},
   "outputs": [],
   "source": [
    "import requests\n",
    "import json\n",
    "import subprocess"
   ]
  },
  {
   "cell_type": "markdown",
   "metadata": {},
   "source": [
    "# Estructura component"
   ]
  },
  {
   "cell_type": "markdown",
   "metadata": {},
   "source": [
    "El component ha de poder executar un codi agnòstic. Es pot començar simplificant el problema fent que aquest codi agnòstic està dins d'un arxiu .py.  \n",
    "Aquest arxiu .py estarà dins d'un docker.  \n",
    "El docker estarà montat amb una base de fastapi.  \n",
    "La crida al component, hauria d'aixecar el docker, amb uns paràmetres d'entrada. El docker executaria el codi .py, i automàticament enviaria el resultat de l'execució de tornada mitjançant fastapi  "
   ]
  },
  {
   "cell_type": "markdown",
   "metadata": {},
   "source": [
    "Patrón de diseño Command Pattern"
   ]
  },
  {
   "cell_type": "markdown",
   "metadata": {},
   "source": [
    "# Component V1"
   ]
  },
  {
   "cell_type": "markdown",
   "metadata": {},
   "source": [
    "docker build -t componente-v1.0 -f Dockerfile .\n",
    "\n",
    "docker run -e SCRIPT_PATH=/path/to/script.py -e ARGS=\"arg1 arg2 arg3\" -e URL=http://api-access-manager.com/path componente-v1.0\n",
    "\n",
    "\n",
    "\n",
    "docker run -it --rm mi-imagen python /tests/componente_tests.py"
   ]
  },
  {
   "cell_type": "markdown",
   "metadata": {},
   "source": [
    "\"calculos.py\" debe enviar por stdout los resultados del cálculo en formato json (o str en su defecto).\n",
    "\n"
   ]
  },
  {
   "cell_type": "markdown",
   "metadata": {},
   "source": [
    "# Crides"
   ]
  },
  {
   "cell_type": "code",
   "execution_count": 137,
   "metadata": {},
   "outputs": [
    {
     "name": "stdout",
     "output_type": "stream",
     "text": [
      "<Response [200]>\n",
      "{\"status\":1000}\n"
     ]
    }
   ],
   "source": [
    "resultado = {\"data\": {\"a\" : 1}}\n",
    "url = \"http://localhost:8080/run\"\n",
    "headers = {\"Content-Type\": \"application/json\"}\n",
    "response = requests.post(url, headers=headers, data=json.dumps(resultado))\n",
    "print(response)\n",
    "print(response.text)"
   ]
  },
  {
   "cell_type": "code",
   "execution_count": 132,
   "metadata": {},
   "outputs": [
    {
     "data": {
      "text/plain": [
       "'{\"a\": 1}'"
      ]
     },
     "execution_count": 132,
     "metadata": {},
     "output_type": "execute_result"
    }
   ],
   "source": [
    "url = \"http://localhost:8080/results\"\n",
    "headers = {\"Content-Type\": \"application/json\"}\n",
    "resultado =  { \"a\" : 1 }\n",
    "response = requests.post(url, headers=headers, data=json.dumps(resultado))\n",
    "json.dumps(resultado)"
   ]
  },
  {
   "cell_type": "code",
   "execution_count": 118,
   "metadata": {},
   "outputs": [
    {
     "data": {
      "text/plain": [
       "CompletedProcess(args=['docker', 'run', '-e', 'SCRIPT_PATH=calculos.py', '-e', 'ARGS=\"arg1 arg2 arg3\"', '-e', 'URL=http://host.docker.internal:8080/results', 'componente-v1.0'], returncode=0)"
      ]
     },
     "execution_count": 118,
     "metadata": {},
     "output_type": "execute_result"
    }
   ],
   "source": [
    "docker_image_name = \"componente-v1.0\"\n",
    "script_path = \"calculos.py\"\n",
    "args = \"arg1 arg2 arg3\"\n",
    "url = \"http://host.docker.internal:8080/results\"\n",
    "docker_command = [\"docker\", \"run\", \"-e\", f\"SCRIPT_PATH={script_path}\", \"-e\", f'ARGS=\"{args}\"', \"-e\", f'URL={url}', docker_image_name]\n",
    "process = subprocess.run(docker_command)\n",
    "process"
   ]
  },
  {
   "cell_type": "code",
   "execution_count": 34,
   "metadata": {},
   "outputs": [
    {
     "data": {
      "text/plain": [
       "'{\"a\": 1}'"
      ]
     },
     "execution_count": 34,
     "metadata": {},
     "output_type": "execute_result"
    }
   ],
   "source": [
    "docker_image_name = \"componente-v1.0\"\n",
    "script_path = \"calculos.py\"\n",
    "args = \"arg1 arg2 arg3\"\n",
    "url = \"http://host.docker.internal:8080/results\"\n",
    "docker_command = f'docker run -e SCRIPT_PATH={script_path} -e ARGS=\"{args}\" -e URL={url} {docker_image_name}'\n",
    "process = subprocess.run(docker_command, shell=True, stdout=subprocess.PIPE, stderr=subprocess.PIPE,text=True)"
   ]
  },
  {
   "cell_type": "code",
   "execution_count": 46,
   "metadata": {},
   "outputs": [
    {
     "name": "stdout",
     "output_type": "stream",
     "text": [
      "El archivo calculos.py es accesible\n"
     ]
    }
   ],
   "source": [
    "script_path = \"..\\src\\componente_v1\\calculos.py\"\n",
    "try:\n",
    "    with open(script_path, 'r') as file:\n",
    "        print('El archivo calculos.py es accesible')\n",
    "except FileNotFoundError:\n",
    "    print('El archivo calculos.py no es accesible')"
   ]
  },
  {
   "cell_type": "code",
   "execution_count": null,
   "metadata": {},
   "outputs": [],
   "source": []
  }
 ],
 "metadata": {
  "kernelspec": {
   "display_name": "Python 3.8.17 ('impetus_env')",
   "language": "python",
   "name": "python3"
  },
  "language_info": {
   "codemirror_mode": {
    "name": "ipython",
    "version": 3
   },
   "file_extension": ".py",
   "mimetype": "text/x-python",
   "name": "python",
   "nbconvert_exporter": "python",
   "pygments_lexer": "ipython3",
   "version": "3.8.17"
  },
  "orig_nbformat": 4,
  "vscode": {
   "interpreter": {
    "hash": "3b53d8ac69ab7c4c5a0f955895f394121c023c004a5d5351af54986cd618c129"
   }
  }
 },
 "nbformat": 4,
 "nbformat_minor": 2
}
